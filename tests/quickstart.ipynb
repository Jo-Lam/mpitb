{
 "cells": [
  {
   "cell_type": "markdown",
   "id": "1196c87b",
   "metadata": {},
   "source": [
    "# 📊 MPIToolbox Quickstart Guide\n",
    "This notebook replicates a typical Stata `.do` file for MPI estimation using the `MPIToolbox` and `mpi_results_utils` in Python."
   ]
  },
  {
   "cell_type": "markdown",
   "id": "4959e25c",
   "metadata": {},
   "source": [
    "## Step 1: Load Required Packages"
   ]
  },
  {
   "cell_type": "code",
   "execution_count": null,
   "id": "ee21ff27",
   "metadata": {},
   "outputs": [],
   "source": [
    "import pandas as pd\n",
    "from mpitb.core import MPIToolbox\n",
    "from mpitb.utils import (\n",
    "    extract_model_summary,\n",
    "    extract_and_sort_by_time,\n",
    "    extract_and_pivot_all_stats_by_time,\n",
    "    extract_and_pivot_by_group,\n",
    "    pivot_cot_summary,\n",
    "    extract_cot_summary\n",
    ")\n"
   ]
  },
  {
   "cell_type": "markdown",
   "id": "f8af5cd9",
   "metadata": {},
   "source": [
    "## Step 2: Load Data"
   ]
  },
  {
   "cell_type": "code",
   "execution_count": null,
   "id": "c283918b",
   "metadata": {},
   "outputs": [],
   "source": [
    "# Update this path to your local or project data path\n",
    "path = 'mpitb/syn_cdta.dta'\n",
    "df = pd.read_stata(path)\n",
    "df = df[df['t'] == 1].copy() # single wave"
   ]
  },
  {
   "cell_type": "markdown",
   "id": "ea6ffca3",
   "metadata": {},
   "source": [
    "## Step 3: Initialize MPIToolbox and Set Survey Design"
   ]
  },
  {
   "cell_type": "code",
   "execution_count": null,
   "id": "14f6fc13",
   "metadata": {},
   "outputs": [],
   "source": [
    "mpi = MPIToolbox()\n",
    "mpi.svyset(psu=\"psu\", weight=\"weight\", strata=\"stratum\")"
   ]
  },
  {
   "cell_type": "markdown",
   "id": "de1938ce",
   "metadata": {},
   "source": [
    "## Step 4: Define MPI Specification"
   ]
  },
  {
   "cell_type": "code",
   "execution_count": null,
   "id": "833fc673",
   "metadata": {},
   "outputs": [],
   "source": [
    "mpi.set(\n",
    "    name=\"trial01\",\n",
    "    description=\"Preferred specification\",\n",
    "    dimensions=[\n",
    "        (['d_cm', 'd_nutr'], 'hl'),\n",
    "        (['d_satt', 'd_educ'], 'ed'),\n",
    "        (['d_elct', 'd_wtr', 'd_sani', 'd_hsg', 'd_ckfl', 'd_asst'], 'ls')\n",
    "    ],\n",
    "    replace=True\n",
    ")"
   ]
  },
  {
   "cell_type": "markdown",
   "id": "74698154",
   "metadata": {},
   "source": [
    "## Step 5: Estimate MPI (National, Region, Area)"
   ]
  },
  {
   "cell_type": "code",
   "execution_count": null,
   "id": "7c4064f2",
   "metadata": {},
   "outputs": [],
   "source": [
    "results = mpi.est(\n",
    "    df=df,\n",
    "    name=\"trial01\",\n",
    "    klist=[20, 33, 50],\n",
    "    weights=\"equal\",\n",
    "    measures=[\"M0\", \"H\", \"A\"],\n",
    "    indmeasures=[\"hdk\", \"actb\", \"pctb\"],\n",
    "    aux=[\"hd\"],\n",
    "    svy=True,\n",
    "    over=[\"region\", \"area\"],\n",
    "    lframe=\"trial01_combined\",\n",
    "    replace=True\n",
    ")"
   ]
  },
  {
   "cell_type": "markdown",
   "id": "e292e7a3",
   "metadata": {},
   "source": [
    "## Step 6: View National Model Summary"
   ]
  },
  {
   "cell_type": "code",
   "execution_count": null,
   "id": "b0a3c3a9",
   "metadata": {},
   "outputs": [],
   "source": [
    "df_results = pd.DataFrame(results)\n",
    "df_nat = df_results[df_results[\"loa\"] == \"nat\"]\n",
    "df_nat.head()"
   ]
  },
  {
   "cell_type": "markdown",
   "id": "f8c445bf",
   "metadata": {},
   "source": [
    "## Step 7: Compare Core Measures Across Models (optional)"
   ]
  },
  {
   "cell_type": "code",
   "execution_count": null,
   "id": "242f37b3",
   "metadata": {},
   "outputs": [],
   "source": [
    "# Assuming multiple models estimated previously:\n",
    "summary = extract_model_summary(df_results)\n",
    "display(summary)"
   ]
  },
  {
   "cell_type": "markdown",
   "id": "3460bbfe",
   "metadata": {},
   "source": [
    "## Step 8: Regional Summary at k=33"
   ]
  },
  {
   "cell_type": "code",
   "execution_count": null,
   "id": "785ee756",
   "metadata": {},
   "outputs": [],
   "source": [
    "extract_and_pivot_by_group(mpi.results, \"trial01_combined\", measure=[\"H\", \"M0\"], group_level=\"region\", k=33)"
   ]
  },
  {
   "cell_type": "markdown",
   "id": "72f37bcb",
   "metadata": {},
   "source": [
    "## Step 9: similar output as Stata Tutorial at k=33"
   ]
  },
  {
   "cell_type": "code",
   "execution_count": null,
   "id": "dcaa24ae",
   "metadata": {},
   "outputs": [],
   "source": [
    "hd_tab = df_results[\n",
    "    (df_results[\"measure\"].isin([\"hd\", \"hdk\"])) & \n",
    "    (df_results[\"loa\"] == \"area\") & \n",
    "    (df_results[\"k\"] == 33)\n",
    "].copy()\n",
    "\n",
    "hd_tab[\"area\"] = hd_tab[\"subg\"].map({0: \"rural\", 1: \"urban\"})\n",
    "# Filter just the relevant measures\n",
    "filtered = hd_tab[hd_tab[\"measure\"].isin([\"hd\", \"hdk\"])]\n",
    "\n",
    "# Pivot with multiple columns using both subgroup and measure\n",
    "pivot = filtered.pivot_table(\n",
    "    index=\"indicator\",\n",
    "    columns=[\"subg\", \"measure\"],\n",
    "    values=\"b\",\n",
    "    aggfunc=\"first\"\n",
    ")\n",
    "\n",
    "# Optional: sort column MultiIndex to ensure \"hd\" before \"hdk\" per group\n",
    "pivot = pivot.sort_index(axis=1, level=[0, 1])\n",
    "\n",
    "# Rename axes for clarity (optional)\n",
    "pivot.columns.names = [\"area\", \"measure\"]\n",
    "\n",
    "# Display formatted output\n",
    "print(pivot.round(4))"
   ]
  },
  {
   "cell_type": "markdown",
   "id": "fe913be9",
   "metadata": {},
   "source": [
    "## 📘 Example: Compare Multiple Models with Different Weights"
   ]
  },
  {
   "cell_type": "code",
   "execution_count": null,
   "id": "572b508b",
   "metadata": {},
   "outputs": [],
   "source": [
    "# Set alternative weighting schemes\n",
    "mpi.setwgts(\"trial01\", \"educ50\", dimw=[0.25, 0.5, 0.25], store=True)\n",
    "mpi.setwgts(\"trial01\", \"ls50\", dimw=[0.25, 0.25, 0.5], store=True)\n",
    "mpi.setwgts(\"trial01\", \"health70\", dimw=[0.7, 0.15, 0.15], store=True)\n",
    "mpi.setwgts(\"trial01\", \"ind_equal\", indw=[0.1] * 10, store=True)"
   ]
  },
  {
   "cell_type": "code",
   "execution_count": null,
   "id": "9b1243c3",
   "metadata": {},
   "outputs": [],
   "source": [
    "# Estimate each model\n",
    "model_names = [\"educ50\", \"ls50\", \"health70\", \"ind_equal\"]\n",
    "all_results = []\n",
    "for model in model_names:\n",
    "    res = mpi.est(\n",
    "        df=df,\n",
    "        name=\"trial01\",\n",
    "        klist=[33],\n",
    "        weights=model,\n",
    "        measures=[\"M0\", \"H\", \"A\"],\n",
    "        indmeasures=[\"hdk\", \"actb\", \"pctb\"],\n",
    "        aux=[\"hd\"],\n",
    "        svy=True,\n",
    "        lframe=model,\n",
    "        replace=True\n",
    "    )\n",
    "    all_results.extend(res)\n",
    "\n",
    "results_models = pd.DataFrame(all_results)"
   ]
  },
  {
   "cell_type": "code",
   "execution_count": null,
   "id": "46ce450e",
   "metadata": {},
   "outputs": [],
   "source": [
    "# Compare core MPI values across models\n",
    "extract_model_summary(results_models)"
   ]
  },
  {
   "cell_type": "code",
   "execution_count": null,
   "id": "541f639f",
   "metadata": {},
   "outputs": [],
   "source": [
    "# If you want to add extra models to compare: extract_model_summary is flexible to pass multiple dfs\n",
    "mpi.set(\n",
    "    name=\"trial02\",\n",
    "    description=\"w/o electricity\",\n",
    "    dimensions=[\n",
    "        ([\"d_cm\", \"d_nutr\"], \"hl\"),\n",
    "        ([\"d_satt\", \"d_educ\"], \"ed\"),\n",
    "        ([\"d_wtr\", \"d_sani\", \"d_hsg\", \"d_ckfl\", \"d_asst\"], \"ls\")\n",
    "    ],\n",
    "    replace=True\n",
    ")\n",
    "\n",
    "results_trial02 = mpi.est(\n",
    "    df=df,\n",
    "    name=\"trial02\",\n",
    "    klist=[33],\n",
    "    weights=\"equal\",\n",
    "    measures=[\"M0\", \"H\", \"A\"],\n",
    "    indmeasures=[\"hdk\", \"actb\", \"pctb\"],\n",
    "    aux=[\"hd\"],\n",
    "    svy=True,\n",
    "    lframe=\"trial02\",\n",
    "    replace=True\n",
    ")\n",
    "\n",
    "trial02_df = pd.DataFrame(results_trial02)\n",
    "\n",
    "summary = extract_model_summary(results_models, trial02_df)"
   ]
  },
  {
   "cell_type": "code",
   "execution_count": null,
   "id": "7359f348",
   "metadata": {},
   "outputs": [],
   "source": [
    "print(summary)"
   ]
  },
  {
   "cell_type": "markdown",
   "id": "320cc1bc",
   "metadata": {},
   "source": [
    "## 📘 Example: Estimate Change Over Time"
   ]
  },
  {
   "cell_type": "code",
   "execution_count": null,
   "id": "1f921dbe",
   "metadata": {},
   "outputs": [],
   "source": [
    "# Use full panel data\n",
    "\n",
    "df = pd.read_stata(path)\n",
    "df['t'].value_counts()\n",
    "\n",
    "mpi.set(\n",
    "    name=\"trial02\",\n",
    "    description=\"Time trend example\",\n",
    "    dimensions=[\n",
    "        (['d_cm', 'd_nutr'], 'hl'),\n",
    "        (['d_satt', 'd_educ'], 'ed'),\n",
    "        (['d_wtr', 'd_sani', 'd_hsg', 'd_ckfl', 'd_asst'], 'ls')\n",
    "    ],\n",
    "    replace=True\n",
    ")"
   ]
  },
  {
   "cell_type": "code",
   "execution_count": null,
   "id": "1f47218c",
   "metadata": {},
   "outputs": [],
   "source": [
    "# overall results\n",
    "results = mpi.est(\n",
    "    df=df,\n",
    "    name=\"trial02\",\n",
    "    klist=[1, 33, 50],\n",
    "    weights=\"equal\",\n",
    "    measures=[\"M0\", \"H\", \"A\"],\n",
    "    indmeasures=[\"hdk\", \"actb\", \"pctb\"],\n",
    "    aux=[\"hd\"],\n",
    "    svy=True,\n",
    "    over=[\"region\", \"t\"], # specify over time\n",
    "    lframe=\"myresults\",\n",
    "    replace=True\n",
    ")"
   ]
  },
  {
   "cell_type": "code",
   "execution_count": null,
   "id": "99888e91",
   "metadata": {},
   "outputs": [],
   "source": [
    "# view data (can filter this way)\n",
    "extract_and_sort_by_time(\n",
    "    mpi.results,\n",
    "    frame_name=\"myresults\",\n",
    "    measure=[\"H\", \"A\", \"M0\"],   # <== multiple measures\n",
    "    k=[1, 33,50],\n",
    "    include_nat=True\n",
    ")"
   ]
  },
  {
   "cell_type": "code",
   "execution_count": null,
   "id": "cadcac5e",
   "metadata": {},
   "outputs": [],
   "source": [
    "# Wide table of b-values for H, A, M0 at different k, and wgts=\"equal\"\n",
    "df_wide = extract_and_pivot_all_stats_by_time(\n",
    "    results_dict=mpi.results,\n",
    "    frame_name=\"myresults\",\n",
    "    measure=[\"H\", \"A\", \"M0\"],\n",
    "    wgts=\"equal\",\n",
    "    k=[1, 33, 50]\n",
    ")\n",
    "\n",
    "df_wide"
   ]
  },
  {
   "cell_type": "code",
   "execution_count": null,
   "id": "f9bdddbd",
   "metadata": {},
   "outputs": [],
   "source": [
    "# over time change analysis\n",
    "\n",
    "cot_results = mpi.est_cot(\n",
    "    df=df,\n",
    "    name=\"trial01\",\n",
    "    yearvar=\"t\",\n",
    "    klist=[33, 50],\n",
    "    cotmeasures=[\"M0\", \"H\", \"A\"],\n",
    "    wgts=\"equal\",              # also handles custom weights\n",
    "    cotframe=\"mycot\",\n",
    "    replace=True,\n",
    "    raw=True,\n",
    "    ann=True,\n",
    "    total=True,\n",
    "    svy=True,\n",
    ")\n",
    "\n"
   ]
  },
  {
   "cell_type": "code",
   "execution_count": null,
   "id": "a67ffa50",
   "metadata": {},
   "outputs": [],
   "source": [
    "cot_df = pd.DataFrame(cot_results)\n",
    "cot_df"
   ]
  },
  {
   "cell_type": "code",
   "execution_count": null,
   "id": "920dfb94",
   "metadata": {},
   "outputs": [],
   "source": [
    "# core results - change over time\n",
    "extract_cot_summary(mpi.results, frame_name=\"mycot\", k = [33,50] )"
   ]
  },
  {
   "cell_type": "code",
   "execution_count": null,
   "id": "ebbb6ca8",
   "metadata": {},
   "outputs": [],
   "source": [
    "# pivot option\n",
    "pivot_cot_summary(\n",
    "    results_dict=mpi.results,\n",
    "    frame_name=\"mycot\",\n",
    "    measure=[\"H\", \"M0\"],\n",
    "    k=[20, 33, 50],\n",
    "    index=[\"spec\"],\n",
    "    include_se=True\n",
    ")"
   ]
  }
 ],
 "metadata": {
  "kernelspec": {
   "display_name": "Python 3",
   "language": "python",
   "name": "python3"
  },
  "language_info": {
   "codemirror_mode": {
    "name": "ipython",
    "version": 3
   },
   "file_extension": ".py",
   "mimetype": "text/x-python",
   "name": "python",
   "nbconvert_exporter": "python",
   "pygments_lexer": "ipython3",
   "version": "3.13.0"
  }
 },
 "nbformat": 4,
 "nbformat_minor": 5
}
